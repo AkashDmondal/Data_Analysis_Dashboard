{
 "cells": [
  {
   "cell_type": "code",
   "execution_count": 114,
   "metadata": {},
   "outputs": [],
   "source": [
    "import pandas as pd"
   ]
  },
  {
   "cell_type": "code",
   "execution_count": 115,
   "metadata": {},
   "outputs": [
    {
     "data": {
      "text/html": [
       "<div>\n",
       "<style scoped>\n",
       "    .dataframe tbody tr th:only-of-type {\n",
       "        vertical-align: middle;\n",
       "    }\n",
       "\n",
       "    .dataframe tbody tr th {\n",
       "        vertical-align: top;\n",
       "    }\n",
       "\n",
       "    .dataframe thead th {\n",
       "        text-align: right;\n",
       "    }\n",
       "</style>\n",
       "<table border=\"1\" class=\"dataframe\">\n",
       "  <thead>\n",
       "    <tr style=\"text-align: right;\">\n",
       "      <th></th>\n",
       "      <th>RecordID</th>\n",
       "      <th>PlayerID</th>\n",
       "      <th>Name</th>\n",
       "      <th>Year</th>\n",
       "      <th>Overall</th>\n",
       "      <th>Position</th>\n",
       "      <th>Age</th>\n",
       "    </tr>\n",
       "  </thead>\n",
       "  <tbody>\n",
       "    <tr>\n",
       "      <th>0</th>\n",
       "      <td>1</td>\n",
       "      <td>1</td>\n",
       "      <td>Paul Pogba</td>\n",
       "      <td>2020</td>\n",
       "      <td>88</td>\n",
       "      <td>CM</td>\n",
       "      <td>26</td>\n",
       "    </tr>\n",
       "    <tr>\n",
       "      <th>1</th>\n",
       "      <td>2</td>\n",
       "      <td>1</td>\n",
       "      <td>Paul Pogba</td>\n",
       "      <td>2019</td>\n",
       "      <td>88</td>\n",
       "      <td>CM</td>\n",
       "      <td>25</td>\n",
       "    </tr>\n",
       "    <tr>\n",
       "      <th>2</th>\n",
       "      <td>3</td>\n",
       "      <td>1</td>\n",
       "      <td>Paul Pogba</td>\n",
       "      <td>2018</td>\n",
       "      <td>88</td>\n",
       "      <td>CM</td>\n",
       "      <td>24</td>\n",
       "    </tr>\n",
       "    <tr>\n",
       "      <th>3</th>\n",
       "      <td>4</td>\n",
       "      <td>1</td>\n",
       "      <td>Paul Pogba</td>\n",
       "      <td>2017</td>\n",
       "      <td>86</td>\n",
       "      <td>CM</td>\n",
       "      <td>23</td>\n",
       "    </tr>\n",
       "    <tr>\n",
       "      <th>4</th>\n",
       "      <td>5</td>\n",
       "      <td>2</td>\n",
       "      <td>Marcus Rashford</td>\n",
       "      <td>2020</td>\n",
       "      <td>83</td>\n",
       "      <td>ST</td>\n",
       "      <td>21</td>\n",
       "    </tr>\n",
       "  </tbody>\n",
       "</table>\n",
       "</div>"
      ],
      "text/plain": [
       "   RecordID  PlayerID             Name  Year  Overall Position  Age\n",
       "0         1         1       Paul Pogba  2020       88       CM   26\n",
       "1         2         1       Paul Pogba  2019       88       CM   25\n",
       "2         3         1       Paul Pogba  2018       88       CM   24\n",
       "3         4         1       Paul Pogba  2017       86       CM   23\n",
       "4         5         2  Marcus Rashford  2020       83       ST   21"
      ]
     },
     "execution_count": 115,
     "metadata": {},
     "output_type": "execute_result"
    }
   ],
   "source": [
    "players=pd.read_csv(\"Progression.csv\")\n",
    "players.head()"
   ]
  },
  {
   "cell_type": "markdown",
   "metadata": {},
   "source": [
    "### Player Turnover Score - Indicator of how long players stayed in the club"
   ]
  },
  {
   "cell_type": "code",
   "execution_count": 116,
   "metadata": {},
   "outputs": [
    {
     "data": {
      "text/plain": [
       "3.814814814814815"
      ]
     },
     "execution_count": 116,
     "metadata": {},
     "output_type": "execute_result"
    }
   ],
   "source": [
    "max(players.RecordID)/max(players.PlayerID)"
   ]
  },
  {
   "cell_type": "code",
   "execution_count": 117,
   "metadata": {},
   "outputs": [
    {
     "data": {
      "text/html": [
       "<div>\n",
       "<style scoped>\n",
       "    .dataframe tbody tr th:only-of-type {\n",
       "        vertical-align: middle;\n",
       "    }\n",
       "\n",
       "    .dataframe tbody tr th {\n",
       "        vertical-align: top;\n",
       "    }\n",
       "\n",
       "    .dataframe thead th {\n",
       "        text-align: right;\n",
       "    }\n",
       "</style>\n",
       "<table border=\"1\" class=\"dataframe\">\n",
       "  <thead>\n",
       "    <tr style=\"text-align: right;\">\n",
       "      <th></th>\n",
       "      <th>RecordID</th>\n",
       "      <th>Name</th>\n",
       "      <th>Year</th>\n",
       "      <th>Overall</th>\n",
       "      <th>Position</th>\n",
       "      <th>Age</th>\n",
       "    </tr>\n",
       "    <tr>\n",
       "      <th>PlayerID</th>\n",
       "      <th></th>\n",
       "      <th></th>\n",
       "      <th></th>\n",
       "      <th></th>\n",
       "      <th></th>\n",
       "      <th></th>\n",
       "    </tr>\n",
       "  </thead>\n",
       "  <tbody>\n",
       "    <tr>\n",
       "      <th>1</th>\n",
       "      <td>1</td>\n",
       "      <td>Paul Pogba</td>\n",
       "      <td>2020</td>\n",
       "      <td>88</td>\n",
       "      <td>CM</td>\n",
       "      <td>26</td>\n",
       "    </tr>\n",
       "    <tr>\n",
       "      <th>2</th>\n",
       "      <td>5</td>\n",
       "      <td>Marcus Rashford</td>\n",
       "      <td>2020</td>\n",
       "      <td>83</td>\n",
       "      <td>ST</td>\n",
       "      <td>21</td>\n",
       "    </tr>\n",
       "    <tr>\n",
       "      <th>3</th>\n",
       "      <td>9</td>\n",
       "      <td>Anthony Martial</td>\n",
       "      <td>2020</td>\n",
       "      <td>83</td>\n",
       "      <td>LW</td>\n",
       "      <td>23</td>\n",
       "    </tr>\n",
       "    <tr>\n",
       "      <th>4</th>\n",
       "      <td>15</td>\n",
       "      <td>Harry Maguire</td>\n",
       "      <td>2020</td>\n",
       "      <td>82</td>\n",
       "      <td>CB</td>\n",
       "      <td>26</td>\n",
       "    </tr>\n",
       "    <tr>\n",
       "      <th>5</th>\n",
       "      <td>16</td>\n",
       "      <td>Juan Mata</td>\n",
       "      <td>2020</td>\n",
       "      <td>82</td>\n",
       "      <td>CAM</td>\n",
       "      <td>31</td>\n",
       "    </tr>\n",
       "    <tr>\n",
       "      <th>6</th>\n",
       "      <td>22</td>\n",
       "      <td>Jesse Lingard</td>\n",
       "      <td>2020</td>\n",
       "      <td>82</td>\n",
       "      <td>CAM</td>\n",
       "      <td>26</td>\n",
       "    </tr>\n",
       "    <tr>\n",
       "      <th>7</th>\n",
       "      <td>28</td>\n",
       "      <td>Nemanja Matic</td>\n",
       "      <td>2020</td>\n",
       "      <td>81</td>\n",
       "      <td>CDM</td>\n",
       "      <td>31</td>\n",
       "    </tr>\n",
       "    <tr>\n",
       "      <th>8</th>\n",
       "      <td>32</td>\n",
       "      <td>Luke Shaw</td>\n",
       "      <td>2020</td>\n",
       "      <td>81</td>\n",
       "      <td>LB</td>\n",
       "      <td>24</td>\n",
       "    </tr>\n",
       "    <tr>\n",
       "      <th>9</th>\n",
       "      <td>39</td>\n",
       "      <td>Victor Lindelhof</td>\n",
       "      <td>2020</td>\n",
       "      <td>81</td>\n",
       "      <td>CB</td>\n",
       "      <td>25</td>\n",
       "    </tr>\n",
       "    <tr>\n",
       "      <th>10</th>\n",
       "      <td>43</td>\n",
       "      <td>Eric Bailly</td>\n",
       "      <td>2020</td>\n",
       "      <td>80</td>\n",
       "      <td>CB</td>\n",
       "      <td>25</td>\n",
       "    </tr>\n",
       "    <tr>\n",
       "      <th>11</th>\n",
       "      <td>48</td>\n",
       "      <td>Phil Jones</td>\n",
       "      <td>2020</td>\n",
       "      <td>79</td>\n",
       "      <td>CB</td>\n",
       "      <td>27</td>\n",
       "    </tr>\n",
       "    <tr>\n",
       "      <th>12</th>\n",
       "      <td>57</td>\n",
       "      <td>Fred</td>\n",
       "      <td>2020</td>\n",
       "      <td>79</td>\n",
       "      <td>CM</td>\n",
       "      <td>26</td>\n",
       "    </tr>\n",
       "    <tr>\n",
       "      <th>13</th>\n",
       "      <td>60</td>\n",
       "      <td>Aaron Wan-Bissaka</td>\n",
       "      <td>2020</td>\n",
       "      <td>79</td>\n",
       "      <td>RB</td>\n",
       "      <td>21</td>\n",
       "    </tr>\n",
       "    <tr>\n",
       "      <th>14</th>\n",
       "      <td>61</td>\n",
       "      <td>Marcos Rojo</td>\n",
       "      <td>2020</td>\n",
       "      <td>78</td>\n",
       "      <td>CB</td>\n",
       "      <td>29</td>\n",
       "    </tr>\n",
       "    <tr>\n",
       "      <th>15</th>\n",
       "      <td>68</td>\n",
       "      <td>Ashley Young</td>\n",
       "      <td>2020</td>\n",
       "      <td>77</td>\n",
       "      <td>RB</td>\n",
       "      <td>34</td>\n",
       "    </tr>\n",
       "    <tr>\n",
       "      <th>16</th>\n",
       "      <td>77</td>\n",
       "      <td>Scott McTominay</td>\n",
       "      <td>2020</td>\n",
       "      <td>77</td>\n",
       "      <td>CDM</td>\n",
       "      <td>22</td>\n",
       "    </tr>\n",
       "    <tr>\n",
       "      <th>17</th>\n",
       "      <td>80</td>\n",
       "      <td>Andreas Pereira</td>\n",
       "      <td>2020</td>\n",
       "      <td>77</td>\n",
       "      <td>CM</td>\n",
       "      <td>23</td>\n",
       "    </tr>\n",
       "    <tr>\n",
       "      <th>18</th>\n",
       "      <td>84</td>\n",
       "      <td>Diogo Dalot</td>\n",
       "      <td>2020</td>\n",
       "      <td>75</td>\n",
       "      <td>RB</td>\n",
       "      <td>20</td>\n",
       "    </tr>\n",
       "    <tr>\n",
       "      <th>19</th>\n",
       "      <td>87</td>\n",
       "      <td>Axel Tuanzebe</td>\n",
       "      <td>2020</td>\n",
       "      <td>73</td>\n",
       "      <td>CB</td>\n",
       "      <td>21</td>\n",
       "    </tr>\n",
       "    <tr>\n",
       "      <th>20</th>\n",
       "      <td>90</td>\n",
       "      <td>Timothy Fosu-Mensah</td>\n",
       "      <td>2020</td>\n",
       "      <td>73</td>\n",
       "      <td>RB</td>\n",
       "      <td>21</td>\n",
       "    </tr>\n",
       "    <tr>\n",
       "      <th>21</th>\n",
       "      <td>93</td>\n",
       "      <td>Daniel James</td>\n",
       "      <td>2020</td>\n",
       "      <td>72</td>\n",
       "      <td>LM</td>\n",
       "      <td>21</td>\n",
       "    </tr>\n",
       "    <tr>\n",
       "      <th>22</th>\n",
       "      <td>94</td>\n",
       "      <td>Angel Gomes</td>\n",
       "      <td>2020</td>\n",
       "      <td>68</td>\n",
       "      <td>CAM</td>\n",
       "      <td>19</td>\n",
       "    </tr>\n",
       "    <tr>\n",
       "      <th>23</th>\n",
       "      <td>97</td>\n",
       "      <td>Mason Greenwood</td>\n",
       "      <td>2020</td>\n",
       "      <td>67</td>\n",
       "      <td>CF</td>\n",
       "      <td>17</td>\n",
       "    </tr>\n",
       "    <tr>\n",
       "      <th>24</th>\n",
       "      <td>98</td>\n",
       "      <td>Cameron Borthwick-Jackson</td>\n",
       "      <td>2020</td>\n",
       "      <td>67</td>\n",
       "      <td>LB</td>\n",
       "      <td>22</td>\n",
       "    </tr>\n",
       "    <tr>\n",
       "      <th>25</th>\n",
       "      <td>100</td>\n",
       "      <td>Demetri Mitchell</td>\n",
       "      <td>2020</td>\n",
       "      <td>66</td>\n",
       "      <td>LB</td>\n",
       "      <td>22</td>\n",
       "    </tr>\n",
       "    <tr>\n",
       "      <th>26</th>\n",
       "      <td>101</td>\n",
       "      <td>Tahith Chong</td>\n",
       "      <td>2020</td>\n",
       "      <td>65</td>\n",
       "      <td>RW</td>\n",
       "      <td>19</td>\n",
       "    </tr>\n",
       "    <tr>\n",
       "      <th>27</th>\n",
       "      <td>103</td>\n",
       "      <td>James Garner</td>\n",
       "      <td>2020</td>\n",
       "      <td>63</td>\n",
       "      <td>CDM</td>\n",
       "      <td>18</td>\n",
       "    </tr>\n",
       "  </tbody>\n",
       "</table>\n",
       "</div>"
      ],
      "text/plain": [
       "          RecordID                       Name  Year  Overall Position  Age\n",
       "PlayerID                                                                  \n",
       "1                1                 Paul Pogba  2020       88       CM   26\n",
       "2                5            Marcus Rashford  2020       83       ST   21\n",
       "3                9            Anthony Martial  2020       83       LW   23\n",
       "4               15              Harry Maguire  2020       82       CB   26\n",
       "5               16                  Juan Mata  2020       82      CAM   31\n",
       "6               22              Jesse Lingard  2020       82      CAM   26\n",
       "7               28              Nemanja Matic  2020       81      CDM   31\n",
       "8               32                  Luke Shaw  2020       81       LB   24\n",
       "9               39           Victor Lindelhof  2020       81       CB   25\n",
       "10              43                Eric Bailly  2020       80       CB   25\n",
       "11              48                 Phil Jones  2020       79       CB   27\n",
       "12              57                       Fred  2020       79       CM   26\n",
       "13              60          Aaron Wan-Bissaka  2020       79       RB   21\n",
       "14              61                Marcos Rojo  2020       78       CB   29\n",
       "15              68               Ashley Young  2020       77       RB   34\n",
       "16              77            Scott McTominay  2020       77      CDM   22\n",
       "17              80            Andreas Pereira  2020       77       CM   23\n",
       "18              84                Diogo Dalot  2020       75       RB   20\n",
       "19              87              Axel Tuanzebe  2020       73       CB   21\n",
       "20              90        Timothy Fosu-Mensah  2020       73       RB   21\n",
       "21              93               Daniel James  2020       72       LM   21\n",
       "22              94                Angel Gomes  2020       68      CAM   19\n",
       "23              97            Mason Greenwood  2020       67       CF   17\n",
       "24              98  Cameron Borthwick-Jackson  2020       67       LB   22\n",
       "25             100           Demetri Mitchell  2020       66       LB   22\n",
       "26             101               Tahith Chong  2020       65       RW   19\n",
       "27             103               James Garner  2020       63      CDM   18"
      ]
     },
     "execution_count": 117,
     "metadata": {},
     "output_type": "execute_result"
    }
   ],
   "source": [
    "x=players.groupby('PlayerID')\n",
    "currentTeam=x.first()\n",
    "currentTeam"
   ]
  },
  {
   "cell_type": "markdown",
   "metadata": {},
   "source": [
    "### Average age of Team"
   ]
  },
  {
   "cell_type": "code",
   "execution_count": 118,
   "metadata": {},
   "outputs": [
    {
     "data": {
      "text/plain": [
       "23.281553398058254"
      ]
     },
     "execution_count": 118,
     "metadata": {},
     "output_type": "execute_result"
    }
   ],
   "source": [
    "players.loc[:,\"Age\"].mean()"
   ]
  },
  {
   "cell_type": "code",
   "execution_count": 119,
   "metadata": {},
   "outputs": [
    {
     "data": {
      "text/html": [
       "<div>\n",
       "<style scoped>\n",
       "    .dataframe tbody tr th:only-of-type {\n",
       "        vertical-align: middle;\n",
       "    }\n",
       "\n",
       "    .dataframe tbody tr th {\n",
       "        vertical-align: top;\n",
       "    }\n",
       "\n",
       "    .dataframe thead th {\n",
       "        text-align: right;\n",
       "    }\n",
       "</style>\n",
       "<table border=\"1\" class=\"dataframe\">\n",
       "  <thead>\n",
       "    <tr style=\"text-align: right;\">\n",
       "      <th></th>\n",
       "      <th>Current</th>\n",
       "      <th>Start</th>\n",
       "    </tr>\n",
       "    <tr>\n",
       "      <th>PlayerID</th>\n",
       "      <th></th>\n",
       "      <th></th>\n",
       "    </tr>\n",
       "  </thead>\n",
       "  <tbody>\n",
       "    <tr>\n",
       "      <th>1</th>\n",
       "      <td>88</td>\n",
       "      <td>86</td>\n",
       "    </tr>\n",
       "    <tr>\n",
       "      <th>2</th>\n",
       "      <td>83</td>\n",
       "      <td>77</td>\n",
       "    </tr>\n",
       "    <tr>\n",
       "      <th>3</th>\n",
       "      <td>83</td>\n",
       "      <td>69</td>\n",
       "    </tr>\n",
       "    <tr>\n",
       "      <th>4</th>\n",
       "      <td>82</td>\n",
       "      <td>82</td>\n",
       "    </tr>\n",
       "    <tr>\n",
       "      <th>5</th>\n",
       "      <td>82</td>\n",
       "      <td>87</td>\n",
       "    </tr>\n",
       "    <tr>\n",
       "      <th>6</th>\n",
       "      <td>82</td>\n",
       "      <td>63</td>\n",
       "    </tr>\n",
       "    <tr>\n",
       "      <th>7</th>\n",
       "      <td>81</td>\n",
       "      <td>84</td>\n",
       "    </tr>\n",
       "    <tr>\n",
       "      <th>8</th>\n",
       "      <td>81</td>\n",
       "      <td>73</td>\n",
       "    </tr>\n",
       "    <tr>\n",
       "      <th>9</th>\n",
       "      <td>81</td>\n",
       "      <td>78</td>\n",
       "    </tr>\n",
       "    <tr>\n",
       "      <th>10</th>\n",
       "      <td>80</td>\n",
       "      <td>77</td>\n",
       "    </tr>\n",
       "    <tr>\n",
       "      <th>11</th>\n",
       "      <td>79</td>\n",
       "      <td>76</td>\n",
       "    </tr>\n",
       "    <tr>\n",
       "      <th>12</th>\n",
       "      <td>79</td>\n",
       "      <td>80</td>\n",
       "    </tr>\n",
       "    <tr>\n",
       "      <th>13</th>\n",
       "      <td>79</td>\n",
       "      <td>79</td>\n",
       "    </tr>\n",
       "    <tr>\n",
       "      <th>14</th>\n",
       "      <td>78</td>\n",
       "      <td>76</td>\n",
       "    </tr>\n",
       "    <tr>\n",
       "      <th>15</th>\n",
       "      <td>77</td>\n",
       "      <td>85</td>\n",
       "    </tr>\n",
       "    <tr>\n",
       "      <th>16</th>\n",
       "      <td>77</td>\n",
       "      <td>63</td>\n",
       "    </tr>\n",
       "    <tr>\n",
       "      <th>17</th>\n",
       "      <td>77</td>\n",
       "      <td>69</td>\n",
       "    </tr>\n",
       "    <tr>\n",
       "      <th>18</th>\n",
       "      <td>75</td>\n",
       "      <td>68</td>\n",
       "    </tr>\n",
       "    <tr>\n",
       "      <th>19</th>\n",
       "      <td>73</td>\n",
       "      <td>67</td>\n",
       "    </tr>\n",
       "    <tr>\n",
       "      <th>20</th>\n",
       "      <td>73</td>\n",
       "      <td>71</td>\n",
       "    </tr>\n",
       "    <tr>\n",
       "      <th>21</th>\n",
       "      <td>72</td>\n",
       "      <td>72</td>\n",
       "    </tr>\n",
       "    <tr>\n",
       "      <th>22</th>\n",
       "      <td>68</td>\n",
       "      <td>63</td>\n",
       "    </tr>\n",
       "    <tr>\n",
       "      <th>23</th>\n",
       "      <td>67</td>\n",
       "      <td>67</td>\n",
       "    </tr>\n",
       "    <tr>\n",
       "      <th>24</th>\n",
       "      <td>67</td>\n",
       "      <td>70</td>\n",
       "    </tr>\n",
       "    <tr>\n",
       "      <th>25</th>\n",
       "      <td>66</td>\n",
       "      <td>66</td>\n",
       "    </tr>\n",
       "    <tr>\n",
       "      <th>26</th>\n",
       "      <td>65</td>\n",
       "      <td>65</td>\n",
       "    </tr>\n",
       "    <tr>\n",
       "      <th>27</th>\n",
       "      <td>63</td>\n",
       "      <td>63</td>\n",
       "    </tr>\n",
       "  </tbody>\n",
       "</table>\n",
       "</div>"
      ],
      "text/plain": [
       "          Current  Start\n",
       "PlayerID                \n",
       "1              88     86\n",
       "2              83     77\n",
       "3              83     69\n",
       "4              82     82\n",
       "5              82     87\n",
       "6              82     63\n",
       "7              81     84\n",
       "8              81     73\n",
       "9              81     78\n",
       "10             80     77\n",
       "11             79     76\n",
       "12             79     80\n",
       "13             79     79\n",
       "14             78     76\n",
       "15             77     85\n",
       "16             77     63\n",
       "17             77     69\n",
       "18             75     68\n",
       "19             73     67\n",
       "20             73     71\n",
       "21             72     72\n",
       "22             68     63\n",
       "23             67     67\n",
       "24             67     70\n",
       "25             66     66\n",
       "26             65     65\n",
       "27             63     63"
      ]
     },
     "execution_count": 119,
     "metadata": {},
     "output_type": "execute_result"
    }
   ],
   "source": [
    "df = (players.assign(Data_Value=players['Overall'].abs())\n",
    "       .groupby(['PlayerID'])['Overall'].agg([('Current' , 'first'), ('Start', 'last')]))\n",
    "df"
   ]
  },
  {
   "cell_type": "code",
   "execution_count": 120,
   "metadata": {},
   "outputs": [
    {
     "data": {
      "text/html": [
       "<div>\n",
       "<style scoped>\n",
       "    .dataframe tbody tr th:only-of-type {\n",
       "        vertical-align: middle;\n",
       "    }\n",
       "\n",
       "    .dataframe tbody tr th {\n",
       "        vertical-align: top;\n",
       "    }\n",
       "\n",
       "    .dataframe thead th {\n",
       "        text-align: right;\n",
       "    }\n",
       "</style>\n",
       "<table border=\"1\" class=\"dataframe\">\n",
       "  <thead>\n",
       "    <tr style=\"text-align: right;\">\n",
       "      <th></th>\n",
       "      <th>Current</th>\n",
       "      <th>Start</th>\n",
       "      <th>Progress</th>\n",
       "    </tr>\n",
       "    <tr>\n",
       "      <th>PlayerID</th>\n",
       "      <th></th>\n",
       "      <th></th>\n",
       "      <th></th>\n",
       "    </tr>\n",
       "  </thead>\n",
       "  <tbody>\n",
       "    <tr>\n",
       "      <th>1</th>\n",
       "      <td>88</td>\n",
       "      <td>86</td>\n",
       "      <td>2</td>\n",
       "    </tr>\n",
       "    <tr>\n",
       "      <th>2</th>\n",
       "      <td>83</td>\n",
       "      <td>77</td>\n",
       "      <td>6</td>\n",
       "    </tr>\n",
       "    <tr>\n",
       "      <th>3</th>\n",
       "      <td>83</td>\n",
       "      <td>69</td>\n",
       "      <td>14</td>\n",
       "    </tr>\n",
       "    <tr>\n",
       "      <th>4</th>\n",
       "      <td>82</td>\n",
       "      <td>82</td>\n",
       "      <td>0</td>\n",
       "    </tr>\n",
       "    <tr>\n",
       "      <th>5</th>\n",
       "      <td>82</td>\n",
       "      <td>87</td>\n",
       "      <td>-5</td>\n",
       "    </tr>\n",
       "    <tr>\n",
       "      <th>6</th>\n",
       "      <td>82</td>\n",
       "      <td>63</td>\n",
       "      <td>19</td>\n",
       "    </tr>\n",
       "    <tr>\n",
       "      <th>7</th>\n",
       "      <td>81</td>\n",
       "      <td>84</td>\n",
       "      <td>-3</td>\n",
       "    </tr>\n",
       "    <tr>\n",
       "      <th>8</th>\n",
       "      <td>81</td>\n",
       "      <td>73</td>\n",
       "      <td>8</td>\n",
       "    </tr>\n",
       "    <tr>\n",
       "      <th>9</th>\n",
       "      <td>81</td>\n",
       "      <td>78</td>\n",
       "      <td>3</td>\n",
       "    </tr>\n",
       "    <tr>\n",
       "      <th>10</th>\n",
       "      <td>80</td>\n",
       "      <td>77</td>\n",
       "      <td>3</td>\n",
       "    </tr>\n",
       "    <tr>\n",
       "      <th>11</th>\n",
       "      <td>79</td>\n",
       "      <td>76</td>\n",
       "      <td>3</td>\n",
       "    </tr>\n",
       "    <tr>\n",
       "      <th>12</th>\n",
       "      <td>79</td>\n",
       "      <td>80</td>\n",
       "      <td>-1</td>\n",
       "    </tr>\n",
       "    <tr>\n",
       "      <th>13</th>\n",
       "      <td>79</td>\n",
       "      <td>79</td>\n",
       "      <td>0</td>\n",
       "    </tr>\n",
       "    <tr>\n",
       "      <th>14</th>\n",
       "      <td>78</td>\n",
       "      <td>76</td>\n",
       "      <td>2</td>\n",
       "    </tr>\n",
       "    <tr>\n",
       "      <th>15</th>\n",
       "      <td>77</td>\n",
       "      <td>85</td>\n",
       "      <td>-8</td>\n",
       "    </tr>\n",
       "    <tr>\n",
       "      <th>16</th>\n",
       "      <td>77</td>\n",
       "      <td>63</td>\n",
       "      <td>14</td>\n",
       "    </tr>\n",
       "    <tr>\n",
       "      <th>17</th>\n",
       "      <td>77</td>\n",
       "      <td>69</td>\n",
       "      <td>8</td>\n",
       "    </tr>\n",
       "    <tr>\n",
       "      <th>18</th>\n",
       "      <td>75</td>\n",
       "      <td>68</td>\n",
       "      <td>7</td>\n",
       "    </tr>\n",
       "    <tr>\n",
       "      <th>19</th>\n",
       "      <td>73</td>\n",
       "      <td>67</td>\n",
       "      <td>6</td>\n",
       "    </tr>\n",
       "    <tr>\n",
       "      <th>20</th>\n",
       "      <td>73</td>\n",
       "      <td>71</td>\n",
       "      <td>2</td>\n",
       "    </tr>\n",
       "    <tr>\n",
       "      <th>21</th>\n",
       "      <td>72</td>\n",
       "      <td>72</td>\n",
       "      <td>0</td>\n",
       "    </tr>\n",
       "    <tr>\n",
       "      <th>22</th>\n",
       "      <td>68</td>\n",
       "      <td>63</td>\n",
       "      <td>5</td>\n",
       "    </tr>\n",
       "    <tr>\n",
       "      <th>23</th>\n",
       "      <td>67</td>\n",
       "      <td>67</td>\n",
       "      <td>0</td>\n",
       "    </tr>\n",
       "    <tr>\n",
       "      <th>24</th>\n",
       "      <td>67</td>\n",
       "      <td>70</td>\n",
       "      <td>-3</td>\n",
       "    </tr>\n",
       "    <tr>\n",
       "      <th>25</th>\n",
       "      <td>66</td>\n",
       "      <td>66</td>\n",
       "      <td>0</td>\n",
       "    </tr>\n",
       "    <tr>\n",
       "      <th>26</th>\n",
       "      <td>65</td>\n",
       "      <td>65</td>\n",
       "      <td>0</td>\n",
       "    </tr>\n",
       "    <tr>\n",
       "      <th>27</th>\n",
       "      <td>63</td>\n",
       "      <td>63</td>\n",
       "      <td>0</td>\n",
       "    </tr>\n",
       "  </tbody>\n",
       "</table>\n",
       "</div>"
      ],
      "text/plain": [
       "          Current  Start  Progress\n",
       "PlayerID                          \n",
       "1              88     86         2\n",
       "2              83     77         6\n",
       "3              83     69        14\n",
       "4              82     82         0\n",
       "5              82     87        -5\n",
       "6              82     63        19\n",
       "7              81     84        -3\n",
       "8              81     73         8\n",
       "9              81     78         3\n",
       "10             80     77         3\n",
       "11             79     76         3\n",
       "12             79     80        -1\n",
       "13             79     79         0\n",
       "14             78     76         2\n",
       "15             77     85        -8\n",
       "16             77     63        14\n",
       "17             77     69         8\n",
       "18             75     68         7\n",
       "19             73     67         6\n",
       "20             73     71         2\n",
       "21             72     72         0\n",
       "22             68     63         5\n",
       "23             67     67         0\n",
       "24             67     70        -3\n",
       "25             66     66         0\n",
       "26             65     65         0\n",
       "27             63     63         0"
      ]
     },
     "execution_count": 120,
     "metadata": {},
     "output_type": "execute_result"
    }
   ],
   "source": [
    "df['Progress']=df['Current']-df['Start']\n",
    "df"
   ]
  },
  {
   "cell_type": "markdown",
   "metadata": {},
   "source": [
    "### Overall Player Progress Score"
   ]
  },
  {
   "cell_type": "code",
   "execution_count": 121,
   "metadata": {},
   "outputs": [
    {
     "data": {
      "text/plain": [
       "82"
      ]
     },
     "execution_count": 121,
     "metadata": {},
     "output_type": "execute_result"
    }
   ],
   "source": [
    "overallProg=sum(df.Progress)\n",
    "overallProg"
   ]
  },
  {
   "cell_type": "code",
   "execution_count": 122,
   "metadata": {},
   "outputs": [
    {
     "data": {
      "text/html": [
       "<div>\n",
       "<style scoped>\n",
       "    .dataframe tbody tr th:only-of-type {\n",
       "        vertical-align: middle;\n",
       "    }\n",
       "\n",
       "    .dataframe tbody tr th {\n",
       "        vertical-align: top;\n",
       "    }\n",
       "\n",
       "    .dataframe thead th {\n",
       "        text-align: right;\n",
       "    }\n",
       "</style>\n",
       "<table border=\"1\" class=\"dataframe\">\n",
       "  <thead>\n",
       "    <tr style=\"text-align: right;\">\n",
       "      <th></th>\n",
       "      <th>RecordID</th>\n",
       "      <th>PlayerID</th>\n",
       "      <th>Name</th>\n",
       "      <th>Year</th>\n",
       "      <th>Overall</th>\n",
       "      <th>Position</th>\n",
       "      <th>Age</th>\n",
       "    </tr>\n",
       "  </thead>\n",
       "  <tbody>\n",
       "    <tr>\n",
       "      <th>4</th>\n",
       "      <td>5</td>\n",
       "      <td>2</td>\n",
       "      <td>Marcus Rashford</td>\n",
       "      <td>2020</td>\n",
       "      <td>83</td>\n",
       "      <td>ST</td>\n",
       "      <td>21</td>\n",
       "    </tr>\n",
       "    <tr>\n",
       "      <th>5</th>\n",
       "      <td>6</td>\n",
       "      <td>2</td>\n",
       "      <td>Marcus Rashford</td>\n",
       "      <td>2019</td>\n",
       "      <td>82</td>\n",
       "      <td>ST</td>\n",
       "      <td>20</td>\n",
       "    </tr>\n",
       "    <tr>\n",
       "      <th>7</th>\n",
       "      <td>8</td>\n",
       "      <td>2</td>\n",
       "      <td>Marcus Rashford</td>\n",
       "      <td>2017</td>\n",
       "      <td>77</td>\n",
       "      <td>ST</td>\n",
       "      <td>18</td>\n",
       "    </tr>\n",
       "    <tr>\n",
       "      <th>12</th>\n",
       "      <td>13</td>\n",
       "      <td>3</td>\n",
       "      <td>Anthony Martial</td>\n",
       "      <td>2016</td>\n",
       "      <td>79</td>\n",
       "      <td>ST</td>\n",
       "      <td>19</td>\n",
       "    </tr>\n",
       "    <tr>\n",
       "      <th>13</th>\n",
       "      <td>14</td>\n",
       "      <td>3</td>\n",
       "      <td>Anthony Martial</td>\n",
       "      <td>2015</td>\n",
       "      <td>69</td>\n",
       "      <td>ST</td>\n",
       "      <td>18</td>\n",
       "    </tr>\n",
       "  </tbody>\n",
       "</table>\n",
       "</div>"
      ],
      "text/plain": [
       "    RecordID  PlayerID             Name  Year  Overall Position  Age\n",
       "4          5         2  Marcus Rashford  2020       83       ST   21\n",
       "5          6         2  Marcus Rashford  2019       82       ST   20\n",
       "7          8         2  Marcus Rashford  2017       77       ST   18\n",
       "12        13         3  Anthony Martial  2016       79       ST   19\n",
       "13        14         3  Anthony Martial  2015       69       ST   18"
      ]
     },
     "execution_count": 122,
     "metadata": {},
     "output_type": "execute_result"
    }
   ],
   "source": [
    "strikers=players.loc[(players['Position']=='ST')|(players['Position']=='LS')|(players['Position']=='RS')].copy()\n",
    "strikers.head()"
   ]
  },
  {
   "cell_type": "code",
   "execution_count": 123,
   "metadata": {},
   "outputs": [
    {
     "data": {
      "text/html": [
       "<div>\n",
       "<style scoped>\n",
       "    .dataframe tbody tr th:only-of-type {\n",
       "        vertical-align: middle;\n",
       "    }\n",
       "\n",
       "    .dataframe tbody tr th {\n",
       "        vertical-align: top;\n",
       "    }\n",
       "\n",
       "    .dataframe thead th {\n",
       "        text-align: right;\n",
       "    }\n",
       "</style>\n",
       "<table border=\"1\" class=\"dataframe\">\n",
       "  <thead>\n",
       "    <tr style=\"text-align: right;\">\n",
       "      <th></th>\n",
       "      <th>Current</th>\n",
       "      <th>Start</th>\n",
       "    </tr>\n",
       "    <tr>\n",
       "      <th>PlayerID</th>\n",
       "      <th></th>\n",
       "      <th></th>\n",
       "    </tr>\n",
       "  </thead>\n",
       "  <tbody>\n",
       "    <tr>\n",
       "      <th>2</th>\n",
       "      <td>83</td>\n",
       "      <td>77</td>\n",
       "    </tr>\n",
       "    <tr>\n",
       "      <th>3</th>\n",
       "      <td>79</td>\n",
       "      <td>69</td>\n",
       "    </tr>\n",
       "  </tbody>\n",
       "</table>\n",
       "</div>"
      ],
      "text/plain": [
       "          Current  Start\n",
       "PlayerID                \n",
       "2              83     77\n",
       "3              79     69"
      ]
     },
     "execution_count": 123,
     "metadata": {},
     "output_type": "execute_result"
    }
   ],
   "source": [
    "df = (strikers.assign(Data_Value=strikers['Overall'].abs())\n",
    "       .groupby(['PlayerID'])['Overall'].agg([('Current' , 'first'), ('Start', 'last')]))\n",
    "df"
   ]
  },
  {
   "cell_type": "code",
   "execution_count": 124,
   "metadata": {},
   "outputs": [
    {
     "data": {
      "text/html": [
       "<div>\n",
       "<style scoped>\n",
       "    .dataframe tbody tr th:only-of-type {\n",
       "        vertical-align: middle;\n",
       "    }\n",
       "\n",
       "    .dataframe tbody tr th {\n",
       "        vertical-align: top;\n",
       "    }\n",
       "\n",
       "    .dataframe thead th {\n",
       "        text-align: right;\n",
       "    }\n",
       "</style>\n",
       "<table border=\"1\" class=\"dataframe\">\n",
       "  <thead>\n",
       "    <tr style=\"text-align: right;\">\n",
       "      <th></th>\n",
       "      <th>Current</th>\n",
       "      <th>Start</th>\n",
       "      <th>Progress</th>\n",
       "    </tr>\n",
       "    <tr>\n",
       "      <th>PlayerID</th>\n",
       "      <th></th>\n",
       "      <th></th>\n",
       "      <th></th>\n",
       "    </tr>\n",
       "  </thead>\n",
       "  <tbody>\n",
       "    <tr>\n",
       "      <th>2</th>\n",
       "      <td>83</td>\n",
       "      <td>77</td>\n",
       "      <td>6</td>\n",
       "    </tr>\n",
       "    <tr>\n",
       "      <th>3</th>\n",
       "      <td>79</td>\n",
       "      <td>69</td>\n",
       "      <td>10</td>\n",
       "    </tr>\n",
       "  </tbody>\n",
       "</table>\n",
       "</div>"
      ],
      "text/plain": [
       "          Current  Start  Progress\n",
       "PlayerID                          \n",
       "2              83     77         6\n",
       "3              79     69        10"
      ]
     },
     "execution_count": 124,
     "metadata": {},
     "output_type": "execute_result"
    }
   ],
   "source": [
    "df['Progress']=df['Current']-df['Start']\n",
    "df"
   ]
  },
  {
   "cell_type": "code",
   "execution_count": 125,
   "metadata": {},
   "outputs": [
    {
     "data": {
      "text/plain": [
       "16"
      ]
     },
     "execution_count": 125,
     "metadata": {},
     "output_type": "execute_result"
    }
   ],
   "source": [
    "strikerProg=sum(df.Progress)\n",
    "strikerProg"
   ]
  },
  {
   "cell_type": "code",
   "execution_count": 126,
   "metadata": {},
   "outputs": [],
   "source": [
    "positionConsistentContribution=0"
   ]
  },
  {
   "cell_type": "markdown",
   "metadata": {},
   "source": [
    "### Percentage Contribution of Strikers to Overall Progress"
   ]
  },
  {
   "cell_type": "code",
   "execution_count": 127,
   "metadata": {},
   "outputs": [
    {
     "name": "stdout",
     "output_type": "stream",
     "text": [
      "Percentage Contribution = 5.125 %\n",
      "Position Contribution   = 16  points\n"
     ]
    }
   ],
   "source": [
    "df = (strikers.assign(Data_Value=strikers['Overall'].abs())\n",
    "       .groupby(['PlayerID'])['Overall'].agg([('Current' , 'first'), ('Start', 'last')]))\n",
    "df['Progress']=df['Current']-df['Start']\n",
    "prog=sum(df.Progress)\n",
    "if prog != 0:\n",
    "    if prog < 0:\n",
    "        print(\"Negative Contribution of \",prog,\" points\")\n",
    "    else:\n",
    "        contribution = overallProg/prog\n",
    "        positionConsistentContribution=positionConsistentContribution+contribution\n",
    "        print(\"Percentage Contribution =\",contribution,\"%\")\n",
    "        print(\"Position Contribution   =\",prog,\" points\")\n",
    "else:\n",
    "    contribution = 0\n",
    "    print(\"No contribution\")"
   ]
  },
  {
   "cell_type": "markdown",
   "metadata": {},
   "source": [
    "### Percentage Contribution of Forwards to Overall Progress"
   ]
  },
  {
   "cell_type": "code",
   "execution_count": 128,
   "metadata": {},
   "outputs": [
    {
     "name": "stdout",
     "output_type": "stream",
     "text": [
      "No contribution\n"
     ]
    }
   ],
   "source": [
    "forwards=players.loc[(players['Position']=='CF')|(players['Position']=='RF')|(players['Position']=='LF')].copy()\n",
    "df = (forwards.assign(Data_Value=forwards['Overall'].abs())\n",
    "       .groupby(['PlayerID'])['Overall'].agg([('Current' , 'first'), ('Start', 'last')]))\n",
    "df['Progress']=df['Current']-df['Start']\n",
    "prog=sum(df.Progress)\n",
    "if prog != 0:\n",
    "    if prog < 0:\n",
    "        print(\"Negative Contribution of \",prog,\" points\")\n",
    "    else:\n",
    "        contribution = overallProg/prog\n",
    "        positionConsistentContribution=positionConsistentContribution+contribution\n",
    "        print(\"Percentage Contribution =\",contribution,\"%\")\n",
    "        print(\"Position Contribution   =\",prog,\" points\")\n",
    "else:\n",
    "    contribution = 0\n",
    "    print(\"No contribution\")"
   ]
  },
  {
   "cell_type": "markdown",
   "metadata": {},
   "source": [
    "### Percentage Contribution of Attacking Wingers to Overall Progress"
   ]
  },
  {
   "cell_type": "code",
   "execution_count": 129,
   "metadata": {},
   "outputs": [
    {
     "name": "stdout",
     "output_type": "stream",
     "text": [
      "Negative Contribution of  -1  points\n"
     ]
    }
   ],
   "source": [
    "attWingers=players.loc[(players['Position']=='RW')|(players['Position']=='LW')].copy()\n",
    "df = (attWingers.assign(Data_Value=attWingers['Overall'].abs())\n",
    "       .groupby(['PlayerID'])['Overall'].agg([('Current' , 'first'), ('Start', 'last')]))\n",
    "df['Progress']=df['Current']-df['Start']\n",
    "prog=sum(df.Progress)\n",
    "if prog != 0:\n",
    "    if prog < 0:\n",
    "        print(\"Negative Contribution of \",prog,\" points\")\n",
    "    else:\n",
    "        contribution = overallProg/prog\n",
    "        positionConsistentContribution=positionConsistentContribution+contribution\n",
    "        print(\"Percentage Contribution =\",contribution,\"%\")\n",
    "        print(\"Position Contribution   =\",prog,\" points\")\n",
    "else:\n",
    "    contribution = 0\n",
    "    print(\"No contribution\")"
   ]
  },
  {
   "cell_type": "markdown",
   "metadata": {},
   "source": [
    "### Percentage Contribution of Attacking Midfielders to Overall Progress"
   ]
  },
  {
   "cell_type": "code",
   "execution_count": 130,
   "metadata": {},
   "outputs": [
    {
     "name": "stdout",
     "output_type": "stream",
     "text": [
      "Percentage Contribution = 4.315789473684211 %\n",
      "Position Contribution   = 19  points\n"
     ]
    }
   ],
   "source": [
    "attmid=players.loc[(players['Position']=='CAM')|(players['Position']=='RAM')|(players['Position']=='LAM')].copy()\n",
    "df = (attmid.assign(Data_Value=attmid['Overall'].abs())\n",
    "       .groupby(['PlayerID'])['Overall'].agg([('Current' , 'first'), ('Start', 'last')]))\n",
    "df['Progress']=df['Current']-df['Start']\n",
    "prog=sum(df.Progress)\n",
    "if prog != 0:\n",
    "    if prog < 0:\n",
    "        print(\"Negative Contribution of \",prog,\" points\")\n",
    "    else:\n",
    "        contribution = overallProg/prog\n",
    "        positionConsistentContribution=positionConsistentContribution+contribution\n",
    "        print(\"Percentage Contribution =\",contribution,\"%\")\n",
    "        print(\"Position Contribution   =\",prog,\" points\")\n",
    "else:\n",
    "    contribution = 0\n",
    "    print(\"No contribution\")"
   ]
  },
  {
   "cell_type": "markdown",
   "metadata": {},
   "source": [
    "### Percentage Contribution of Midfield Wingers to Overall Progress"
   ]
  },
  {
   "cell_type": "code",
   "execution_count": 131,
   "metadata": {},
   "outputs": [
    {
     "name": "stdout",
     "output_type": "stream",
     "text": [
      "Negative Contribution of  -1  points\n"
     ]
    }
   ],
   "source": [
    "midWing=players.loc[(players['Position']=='LM')|(players['Position']=='RM')].copy()\n",
    "df = (midWing.assign(Data_Value=midWing['Overall'].abs())\n",
    "       .groupby(['PlayerID'])['Overall'].agg([('Current' , 'first'), ('Start', 'last')]))\n",
    "df['Progress']=df['Current']-df['Start']\n",
    "prog=sum(df.Progress)\n",
    "if prog != 0:\n",
    "    if prog < 0:\n",
    "        print(\"Negative Contribution of \",prog,\" points\")\n",
    "    else:\n",
    "        contribution = overallProg/prog\n",
    "        positionConsistentContribution=positionConsistentContribution+contribution\n",
    "        print(\"Percentage Contribution =\",contribution,\"%\")\n",
    "        print(\"Position Contribution   =\",prog,\" points\")\n",
    "else:\n",
    "    contribution = 0\n",
    "    print(\"No contribution\")"
   ]
  },
  {
   "cell_type": "markdown",
   "metadata": {},
   "source": [
    "### Percentage Contribution of Center Defensive Midfielders to Overall Progress"
   ]
  },
  {
   "cell_type": "code",
   "execution_count": 132,
   "metadata": {},
   "outputs": [
    {
     "name": "stdout",
     "output_type": "stream",
     "text": [
      "Negative Contribution of  -3  points\n"
     ]
    }
   ],
   "source": [
    "defMid=players.loc[(players['Position']=='CDM')|(players['Position']=='RDM')|(players['Position']=='LDM')].copy()\n",
    "df = (defMid.assign(Data_Value=defMid['Overall'].abs())\n",
    "       .groupby(['PlayerID'])['Overall'].agg([('Current' , 'first'), ('Start', 'last')]))\n",
    "df['Progress']=df['Current']-df['Start']\n",
    "prog=sum(df.Progress)\n",
    "if prog != 0:\n",
    "    if prog < 0:\n",
    "        print(\"Negative Contribution of \",prog,\" points\")\n",
    "    else:\n",
    "        contribution = overallProg/prog\n",
    "        positionConsistentContribution=positionConsistentContribution+contribution\n",
    "        print(\"Percentage Contribution =\",contribution,\"%\")\n",
    "        print(\"Position Contribution   =\",prog,\" points\")\n",
    "else:\n",
    "    contribution = 0\n",
    "    print(\"No contribution\")"
   ]
  },
  {
   "cell_type": "markdown",
   "metadata": {},
   "source": [
    "### Percentage Contribution of Wingbacks to Overall Progress"
   ]
  },
  {
   "cell_type": "code",
   "execution_count": 133,
   "metadata": {},
   "outputs": [
    {
     "name": "stdout",
     "output_type": "stream",
     "text": [
      "No contribution\n"
     ]
    }
   ],
   "source": [
    "wingback=players.loc[(players['Position']=='LWB')|(players['Position']=='RWB')].copy()\n",
    "df = (wingback.assign(Data_Value=wingback['Overall'].abs())\n",
    "       .groupby(['PlayerID'])['Overall'].agg([('Current' , 'first'), ('Start', 'last')]))\n",
    "df['Progress']=df['Current']-df['Start']\n",
    "prog=sum(df.Progress)\n",
    "if prog != 0:\n",
    "    if prog < 0:\n",
    "        print(\"Negative Contribution of \",prog,\" points\")\n",
    "    else:\n",
    "        contribution = overallProg/prog\n",
    "        positionConsistentContribution=positionConsistentContribution+contribution\n",
    "        print(\"Percentage Contribution =\",contribution,\"%\")\n",
    "        print(\"Position Contribution   =\",prog,\" points\")\n",
    "else:\n",
    "    contribution = 0\n",
    "    print(\"No contribution\")"
   ]
  },
  {
   "cell_type": "markdown",
   "metadata": {},
   "source": [
    "### Percentage Contribution of Fullbacks to Overall Progress"
   ]
  },
  {
   "cell_type": "code",
   "execution_count": 134,
   "metadata": {},
   "outputs": [
    {
     "name": "stdout",
     "output_type": "stream",
     "text": [
      "Percentage Contribution = 7.454545454545454 %\n",
      "Position Contribution   = 11  points\n"
     ]
    }
   ],
   "source": [
    "fullback=players.loc[(players['Position']=='LB')|(players['Position']=='RB')].copy()\n",
    "df = (fullback.assign(Data_Value=fullback['Overall'].abs())\n",
    "       .groupby(['PlayerID'])['Overall'].agg([('Current' , 'first'), ('Start', 'last')]))\n",
    "df['Progress']=df['Current']-df['Start']\n",
    "prog=sum(df.Progress)\n",
    "if prog != 0:\n",
    "    if prog < 0:\n",
    "        print(\"Negative Contribution of \",prog,\" points\")\n",
    "    else:\n",
    "        contribution = overallProg/prog\n",
    "        positionConsistentContribution=positionConsistentContribution+contribution\n",
    "        print(\"Percentage Contribution =\",contribution,\"%\")\n",
    "        print(\"Position Contribution   =\",prog,\" points\")\n",
    "else:\n",
    "    contribution = 0\n",
    "    print(\"No contribution\")"
   ]
  },
  {
   "cell_type": "markdown",
   "metadata": {},
   "source": [
    "### Percentage Contribution of CenterBacks to Overall Progress"
   ]
  },
  {
   "cell_type": "code",
   "execution_count": 135,
   "metadata": {},
   "outputs": [
    {
     "name": "stdout",
     "output_type": "stream",
     "text": [
      "Percentage Contribution = 4.823529411764706 %\n",
      "Position Contribution   = 17  points\n"
     ]
    }
   ],
   "source": [
    "cback=players.loc[(players['Position']=='RCB')|(players['Position']=='LCB')|(players['Position']=='CB')].copy()\n",
    "df = (cback.assign(Data_Value=cback['Overall'].abs())\n",
    "       .groupby(['PlayerID'])['Overall'].agg([('Current' , 'first'), ('Start', 'last')]))\n",
    "df['Progress']=df['Current']-df['Start']\n",
    "prog=sum(df.Progress)\n",
    "if prog != 0:\n",
    "    if prog < 0:\n",
    "        print(\"Negative Contribution of \",prog,\" points\")\n",
    "    else:\n",
    "        contribution = overallProg/prog\n",
    "        positionConsistentContribution=positionConsistentContribution+contribution\n",
    "        print(\"Percentage Contribution =\",contribution,\"%\")\n",
    "        print(\"Position Contribution   =\",prog,\" points\")\n",
    "else:\n",
    "    contribution = 0\n",
    "    print(\"No contribution\")"
   ]
  },
  {
   "cell_type": "markdown",
   "metadata": {},
   "source": [
    "### Percentage Contribution of Center Midfielders to Overall Progress"
   ]
  },
  {
   "cell_type": "code",
   "execution_count": 136,
   "metadata": {},
   "outputs": [
    {
     "name": "stdout",
     "output_type": "stream",
     "text": [
      "Percentage Contribution = 9.11111111111111 %\n",
      "Position Contribution   = 9  points\n"
     ]
    }
   ],
   "source": [
    "cenMid=players.loc[(players['Position']=='CM')|(players['Position']=='RCM')|(players['Position']=='LCM')].copy()\n",
    "df = (cenMid.assign(Data_Value=cenMid['Overall'].abs())\n",
    "       .groupby(['PlayerID'])['Overall'].agg([('Current' , 'first'), ('Start', 'last')]))\n",
    "df['Progress']=df['Current']-df['Start']\n",
    "prog=sum(df.Progress)\n",
    "if prog != 0:\n",
    "    if prog < 0:\n",
    "        print(\"Negative Contribution of \",prog,\" points\")\n",
    "    else:\n",
    "        contribution = overallProg/prog\n",
    "        positionConsistentContribution=positionConsistentContribution+contribution\n",
    "        print(\"Percentage Contribution =\",contribution,\"%\")\n",
    "        print(\"Position Contribution   =\",prog,\" points\")\n",
    "else:\n",
    "    contribution = 0\n",
    "    print(\"No contribution\")"
   ]
  },
  {
   "cell_type": "markdown",
   "metadata": {},
   "source": [
    "### Percentage of Contribution to Progression from Players in Consistent Positions"
   ]
  },
  {
   "cell_type": "code",
   "execution_count": 137,
   "metadata": {},
   "outputs": [
    {
     "data": {
      "text/plain": [
       "30.829975451105483"
      ]
     },
     "execution_count": 137,
     "metadata": {},
     "output_type": "execute_result"
    }
   ],
   "source": [
    "positionConsistentContribution"
   ]
  },
  {
   "cell_type": "markdown",
   "metadata": {},
   "source": [
    "### Percentage of Contribution to Progression from Players Shifting Positions"
   ]
  },
  {
   "cell_type": "code",
   "execution_count": 138,
   "metadata": {},
   "outputs": [
    {
     "data": {
      "text/plain": [
       "69.17002454889452"
      ]
     },
     "execution_count": 138,
     "metadata": {},
     "output_type": "execute_result"
    }
   ],
   "source": [
    "100-positionConsistentContribution"
   ]
  },
  {
   "cell_type": "markdown",
   "metadata": {},
   "source": [
    "## Higher percentage contributed from position shifting indicates progress is concentrated at the young player bracket, where positions fluctuate more regularly"
   ]
  },
  {
   "cell_type": "code",
   "execution_count": null,
   "metadata": {},
   "outputs": [],
   "source": []
  }
 ],
 "metadata": {
  "kernelspec": {
   "display_name": "Python 3",
   "language": "python",
   "name": "python3"
  },
  "language_info": {
   "codemirror_mode": {
    "name": "ipython",
    "version": 3
   },
   "file_extension": ".py",
   "mimetype": "text/x-python",
   "name": "python",
   "nbconvert_exporter": "python",
   "pygments_lexer": "ipython3",
   "version": "3.7.3"
  }
 },
 "nbformat": 4,
 "nbformat_minor": 2
}
