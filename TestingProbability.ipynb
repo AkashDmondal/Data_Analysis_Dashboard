{
 "cells": [
  {
   "cell_type": "code",
   "execution_count": 22,
   "metadata": {},
   "outputs": [],
   "source": [
    "import pandas as pd"
   ]
  },
  {
   "cell_type": "code",
   "execution_count": 23,
   "metadata": {},
   "outputs": [
    {
     "data": {
      "text/html": [
       "<div>\n",
       "<style scoped>\n",
       "    .dataframe tbody tr th:only-of-type {\n",
       "        vertical-align: middle;\n",
       "    }\n",
       "\n",
       "    .dataframe tbody tr th {\n",
       "        vertical-align: top;\n",
       "    }\n",
       "\n",
       "    .dataframe thead th {\n",
       "        text-align: right;\n",
       "    }\n",
       "</style>\n",
       "<table border=\"1\" class=\"dataframe\">\n",
       "  <thead>\n",
       "    <tr style=\"text-align: right;\">\n",
       "      <th></th>\n",
       "      <th>Unnamed: 0</th>\n",
       "      <th>ID</th>\n",
       "      <th>Name</th>\n",
       "      <th>Age</th>\n",
       "      <th>Photo</th>\n",
       "      <th>Nationality</th>\n",
       "      <th>Flag</th>\n",
       "      <th>Overall</th>\n",
       "      <th>Potential</th>\n",
       "      <th>Club</th>\n",
       "      <th>...</th>\n",
       "      <th>Composure</th>\n",
       "      <th>Marking</th>\n",
       "      <th>StandingTackle</th>\n",
       "      <th>SlidingTackle</th>\n",
       "      <th>GKDiving</th>\n",
       "      <th>GKHandling</th>\n",
       "      <th>GKKicking</th>\n",
       "      <th>GKPositioning</th>\n",
       "      <th>GKReflexes</th>\n",
       "      <th>Release Clause</th>\n",
       "    </tr>\n",
       "  </thead>\n",
       "  <tbody>\n",
       "    <tr>\n",
       "      <th>0</th>\n",
       "      <td>0</td>\n",
       "      <td>158023</td>\n",
       "      <td>L. Messi</td>\n",
       "      <td>31</td>\n",
       "      <td>https://cdn.sofifa.org/players/4/19/158023.png</td>\n",
       "      <td>Argentina</td>\n",
       "      <td>https://cdn.sofifa.org/flags/52.png</td>\n",
       "      <td>94</td>\n",
       "      <td>94</td>\n",
       "      <td>FC Barcelona</td>\n",
       "      <td>...</td>\n",
       "      <td>96.0</td>\n",
       "      <td>33.0</td>\n",
       "      <td>28.0</td>\n",
       "      <td>26.0</td>\n",
       "      <td>6.0</td>\n",
       "      <td>11.0</td>\n",
       "      <td>15.0</td>\n",
       "      <td>14.0</td>\n",
       "      <td>8.0</td>\n",
       "      <td>€226.5M</td>\n",
       "    </tr>\n",
       "    <tr>\n",
       "      <th>1</th>\n",
       "      <td>1</td>\n",
       "      <td>20801</td>\n",
       "      <td>Cristiano Ronaldo</td>\n",
       "      <td>33</td>\n",
       "      <td>https://cdn.sofifa.org/players/4/19/20801.png</td>\n",
       "      <td>Portugal</td>\n",
       "      <td>https://cdn.sofifa.org/flags/38.png</td>\n",
       "      <td>94</td>\n",
       "      <td>94</td>\n",
       "      <td>Juventus</td>\n",
       "      <td>...</td>\n",
       "      <td>95.0</td>\n",
       "      <td>28.0</td>\n",
       "      <td>31.0</td>\n",
       "      <td>23.0</td>\n",
       "      <td>7.0</td>\n",
       "      <td>11.0</td>\n",
       "      <td>15.0</td>\n",
       "      <td>14.0</td>\n",
       "      <td>11.0</td>\n",
       "      <td>€127.1M</td>\n",
       "    </tr>\n",
       "    <tr>\n",
       "      <th>2</th>\n",
       "      <td>2</td>\n",
       "      <td>190871</td>\n",
       "      <td>Neymar Jr</td>\n",
       "      <td>26</td>\n",
       "      <td>https://cdn.sofifa.org/players/4/19/190871.png</td>\n",
       "      <td>Brazil</td>\n",
       "      <td>https://cdn.sofifa.org/flags/54.png</td>\n",
       "      <td>92</td>\n",
       "      <td>93</td>\n",
       "      <td>Paris Saint-Germain</td>\n",
       "      <td>...</td>\n",
       "      <td>94.0</td>\n",
       "      <td>27.0</td>\n",
       "      <td>24.0</td>\n",
       "      <td>33.0</td>\n",
       "      <td>9.0</td>\n",
       "      <td>9.0</td>\n",
       "      <td>15.0</td>\n",
       "      <td>15.0</td>\n",
       "      <td>11.0</td>\n",
       "      <td>€228.1M</td>\n",
       "    </tr>\n",
       "    <tr>\n",
       "      <th>3</th>\n",
       "      <td>3</td>\n",
       "      <td>193080</td>\n",
       "      <td>De Gea</td>\n",
       "      <td>27</td>\n",
       "      <td>https://cdn.sofifa.org/players/4/19/193080.png</td>\n",
       "      <td>Spain</td>\n",
       "      <td>https://cdn.sofifa.org/flags/45.png</td>\n",
       "      <td>91</td>\n",
       "      <td>93</td>\n",
       "      <td>Manchester United</td>\n",
       "      <td>...</td>\n",
       "      <td>68.0</td>\n",
       "      <td>15.0</td>\n",
       "      <td>21.0</td>\n",
       "      <td>13.0</td>\n",
       "      <td>90.0</td>\n",
       "      <td>85.0</td>\n",
       "      <td>87.0</td>\n",
       "      <td>88.0</td>\n",
       "      <td>94.0</td>\n",
       "      <td>€138.6M</td>\n",
       "    </tr>\n",
       "    <tr>\n",
       "      <th>4</th>\n",
       "      <td>4</td>\n",
       "      <td>192985</td>\n",
       "      <td>K. De Bruyne</td>\n",
       "      <td>27</td>\n",
       "      <td>https://cdn.sofifa.org/players/4/19/192985.png</td>\n",
       "      <td>Belgium</td>\n",
       "      <td>https://cdn.sofifa.org/flags/7.png</td>\n",
       "      <td>91</td>\n",
       "      <td>92</td>\n",
       "      <td>Manchester City</td>\n",
       "      <td>...</td>\n",
       "      <td>88.0</td>\n",
       "      <td>68.0</td>\n",
       "      <td>58.0</td>\n",
       "      <td>51.0</td>\n",
       "      <td>15.0</td>\n",
       "      <td>13.0</td>\n",
       "      <td>5.0</td>\n",
       "      <td>10.0</td>\n",
       "      <td>13.0</td>\n",
       "      <td>€196.4M</td>\n",
       "    </tr>\n",
       "  </tbody>\n",
       "</table>\n",
       "<p>5 rows × 89 columns</p>\n",
       "</div>"
      ],
      "text/plain": [
       "   Unnamed: 0      ID               Name  Age  \\\n",
       "0           0  158023           L. Messi   31   \n",
       "1           1   20801  Cristiano Ronaldo   33   \n",
       "2           2  190871          Neymar Jr   26   \n",
       "3           3  193080             De Gea   27   \n",
       "4           4  192985       K. De Bruyne   27   \n",
       "\n",
       "                                            Photo Nationality  \\\n",
       "0  https://cdn.sofifa.org/players/4/19/158023.png   Argentina   \n",
       "1   https://cdn.sofifa.org/players/4/19/20801.png    Portugal   \n",
       "2  https://cdn.sofifa.org/players/4/19/190871.png      Brazil   \n",
       "3  https://cdn.sofifa.org/players/4/19/193080.png       Spain   \n",
       "4  https://cdn.sofifa.org/players/4/19/192985.png     Belgium   \n",
       "\n",
       "                                  Flag  Overall  Potential  \\\n",
       "0  https://cdn.sofifa.org/flags/52.png       94         94   \n",
       "1  https://cdn.sofifa.org/flags/38.png       94         94   \n",
       "2  https://cdn.sofifa.org/flags/54.png       92         93   \n",
       "3  https://cdn.sofifa.org/flags/45.png       91         93   \n",
       "4   https://cdn.sofifa.org/flags/7.png       91         92   \n",
       "\n",
       "                  Club  ... Composure Marking StandingTackle  SlidingTackle  \\\n",
       "0         FC Barcelona  ...      96.0    33.0           28.0           26.0   \n",
       "1             Juventus  ...      95.0    28.0           31.0           23.0   \n",
       "2  Paris Saint-Germain  ...      94.0    27.0           24.0           33.0   \n",
       "3    Manchester United  ...      68.0    15.0           21.0           13.0   \n",
       "4      Manchester City  ...      88.0    68.0           58.0           51.0   \n",
       "\n",
       "  GKDiving  GKHandling  GKKicking  GKPositioning GKReflexes Release Clause  \n",
       "0      6.0        11.0       15.0           14.0        8.0        €226.5M  \n",
       "1      7.0        11.0       15.0           14.0       11.0        €127.1M  \n",
       "2      9.0         9.0       15.0           15.0       11.0        €228.1M  \n",
       "3     90.0        85.0       87.0           88.0       94.0        €138.6M  \n",
       "4     15.0        13.0        5.0           10.0       13.0        €196.4M  \n",
       "\n",
       "[5 rows x 89 columns]"
      ]
     },
     "execution_count": 23,
     "metadata": {},
     "output_type": "execute_result"
    }
   ],
   "source": [
    "players=pd.read_csv(\"playerAttributes.csv\")\n",
    "players.head()"
   ]
  },
  {
   "cell_type": "code",
   "execution_count": 24,
   "metadata": {},
   "outputs": [
    {
     "data": {
      "text/html": [
       "<div>\n",
       "<style scoped>\n",
       "    .dataframe tbody tr th:only-of-type {\n",
       "        vertical-align: middle;\n",
       "    }\n",
       "\n",
       "    .dataframe tbody tr th {\n",
       "        vertical-align: top;\n",
       "    }\n",
       "\n",
       "    .dataframe thead th {\n",
       "        text-align: right;\n",
       "    }\n",
       "</style>\n",
       "<table border=\"1\" class=\"dataframe\">\n",
       "  <thead>\n",
       "    <tr style=\"text-align: right;\">\n",
       "      <th></th>\n",
       "      <th>Position</th>\n",
       "      <th>Crossing</th>\n",
       "      <th>Finishing</th>\n",
       "      <th>HeadingAccuracy</th>\n",
       "      <th>ShortPassing</th>\n",
       "      <th>Volleys</th>\n",
       "      <th>Dribbling</th>\n",
       "      <th>Curve</th>\n",
       "      <th>FKAccuracy</th>\n",
       "      <th>LongPassing</th>\n",
       "      <th>...</th>\n",
       "      <th>Penalties</th>\n",
       "      <th>Composure</th>\n",
       "      <th>Marking</th>\n",
       "      <th>StandingTackle</th>\n",
       "      <th>SlidingTackle</th>\n",
       "      <th>GKDiving</th>\n",
       "      <th>GKHandling</th>\n",
       "      <th>GKKicking</th>\n",
       "      <th>GKPositioning</th>\n",
       "      <th>GKReflexes</th>\n",
       "    </tr>\n",
       "  </thead>\n",
       "  <tbody>\n",
       "    <tr>\n",
       "      <th>0</th>\n",
       "      <td>RF</td>\n",
       "      <td>84.0</td>\n",
       "      <td>95.0</td>\n",
       "      <td>70.0</td>\n",
       "      <td>90.0</td>\n",
       "      <td>86.0</td>\n",
       "      <td>97.0</td>\n",
       "      <td>93.0</td>\n",
       "      <td>94.0</td>\n",
       "      <td>87.0</td>\n",
       "      <td>...</td>\n",
       "      <td>75.0</td>\n",
       "      <td>96.0</td>\n",
       "      <td>33.0</td>\n",
       "      <td>28.0</td>\n",
       "      <td>26.0</td>\n",
       "      <td>6.0</td>\n",
       "      <td>11.0</td>\n",
       "      <td>15.0</td>\n",
       "      <td>14.0</td>\n",
       "      <td>8.0</td>\n",
       "    </tr>\n",
       "    <tr>\n",
       "      <th>1</th>\n",
       "      <td>ST</td>\n",
       "      <td>84.0</td>\n",
       "      <td>94.0</td>\n",
       "      <td>89.0</td>\n",
       "      <td>81.0</td>\n",
       "      <td>87.0</td>\n",
       "      <td>88.0</td>\n",
       "      <td>81.0</td>\n",
       "      <td>76.0</td>\n",
       "      <td>77.0</td>\n",
       "      <td>...</td>\n",
       "      <td>85.0</td>\n",
       "      <td>95.0</td>\n",
       "      <td>28.0</td>\n",
       "      <td>31.0</td>\n",
       "      <td>23.0</td>\n",
       "      <td>7.0</td>\n",
       "      <td>11.0</td>\n",
       "      <td>15.0</td>\n",
       "      <td>14.0</td>\n",
       "      <td>11.0</td>\n",
       "    </tr>\n",
       "    <tr>\n",
       "      <th>2</th>\n",
       "      <td>LW</td>\n",
       "      <td>79.0</td>\n",
       "      <td>87.0</td>\n",
       "      <td>62.0</td>\n",
       "      <td>84.0</td>\n",
       "      <td>84.0</td>\n",
       "      <td>96.0</td>\n",
       "      <td>88.0</td>\n",
       "      <td>87.0</td>\n",
       "      <td>78.0</td>\n",
       "      <td>...</td>\n",
       "      <td>81.0</td>\n",
       "      <td>94.0</td>\n",
       "      <td>27.0</td>\n",
       "      <td>24.0</td>\n",
       "      <td>33.0</td>\n",
       "      <td>9.0</td>\n",
       "      <td>9.0</td>\n",
       "      <td>15.0</td>\n",
       "      <td>15.0</td>\n",
       "      <td>11.0</td>\n",
       "    </tr>\n",
       "    <tr>\n",
       "      <th>3</th>\n",
       "      <td>GK</td>\n",
       "      <td>17.0</td>\n",
       "      <td>13.0</td>\n",
       "      <td>21.0</td>\n",
       "      <td>50.0</td>\n",
       "      <td>13.0</td>\n",
       "      <td>18.0</td>\n",
       "      <td>21.0</td>\n",
       "      <td>19.0</td>\n",
       "      <td>51.0</td>\n",
       "      <td>...</td>\n",
       "      <td>40.0</td>\n",
       "      <td>68.0</td>\n",
       "      <td>15.0</td>\n",
       "      <td>21.0</td>\n",
       "      <td>13.0</td>\n",
       "      <td>90.0</td>\n",
       "      <td>85.0</td>\n",
       "      <td>87.0</td>\n",
       "      <td>88.0</td>\n",
       "      <td>94.0</td>\n",
       "    </tr>\n",
       "    <tr>\n",
       "      <th>4</th>\n",
       "      <td>RCM</td>\n",
       "      <td>93.0</td>\n",
       "      <td>82.0</td>\n",
       "      <td>55.0</td>\n",
       "      <td>92.0</td>\n",
       "      <td>82.0</td>\n",
       "      <td>86.0</td>\n",
       "      <td>85.0</td>\n",
       "      <td>83.0</td>\n",
       "      <td>91.0</td>\n",
       "      <td>...</td>\n",
       "      <td>79.0</td>\n",
       "      <td>88.0</td>\n",
       "      <td>68.0</td>\n",
       "      <td>58.0</td>\n",
       "      <td>51.0</td>\n",
       "      <td>15.0</td>\n",
       "      <td>13.0</td>\n",
       "      <td>5.0</td>\n",
       "      <td>10.0</td>\n",
       "      <td>13.0</td>\n",
       "    </tr>\n",
       "  </tbody>\n",
       "</table>\n",
       "<p>5 rows × 35 columns</p>\n",
       "</div>"
      ],
      "text/plain": [
       "  Position  Crossing  Finishing  HeadingAccuracy  ShortPassing  Volleys  \\\n",
       "0       RF      84.0       95.0             70.0          90.0     86.0   \n",
       "1       ST      84.0       94.0             89.0          81.0     87.0   \n",
       "2       LW      79.0       87.0             62.0          84.0     84.0   \n",
       "3       GK      17.0       13.0             21.0          50.0     13.0   \n",
       "4      RCM      93.0       82.0             55.0          92.0     82.0   \n",
       "\n",
       "   Dribbling  Curve  FKAccuracy  LongPassing  ...  Penalties  Composure  \\\n",
       "0       97.0   93.0        94.0         87.0  ...       75.0       96.0   \n",
       "1       88.0   81.0        76.0         77.0  ...       85.0       95.0   \n",
       "2       96.0   88.0        87.0         78.0  ...       81.0       94.0   \n",
       "3       18.0   21.0        19.0         51.0  ...       40.0       68.0   \n",
       "4       86.0   85.0        83.0         91.0  ...       79.0       88.0   \n",
       "\n",
       "   Marking  StandingTackle  SlidingTackle  GKDiving  GKHandling  GKKicking  \\\n",
       "0     33.0            28.0           26.0       6.0        11.0       15.0   \n",
       "1     28.0            31.0           23.0       7.0        11.0       15.0   \n",
       "2     27.0            24.0           33.0       9.0         9.0       15.0   \n",
       "3     15.0            21.0           13.0      90.0        85.0       87.0   \n",
       "4     68.0            58.0           51.0      15.0        13.0        5.0   \n",
       "\n",
       "   GKPositioning  GKReflexes  \n",
       "0           14.0         8.0  \n",
       "1           14.0        11.0  \n",
       "2           15.0        11.0  \n",
       "3           88.0        94.0  \n",
       "4           10.0        13.0  \n",
       "\n",
       "[5 rows x 35 columns]"
      ]
     },
     "execution_count": 24,
     "metadata": {},
     "output_type": "execute_result"
    }
   ],
   "source": [
    "players.drop(['Unnamed: 0','ID','Name','Age','Photo','Nationality','Flag','Potential','Club','Club Logo','Value','Wage','Special',\n",
    "       'Preferred Foot', 'International Reputation','Weak Foot',\n",
    "       'Skill Moves','Work Rate','Body Type','Real Face','Jersey Number', 'Joined', 'Loaned From', 'Contract Valid Until',\n",
    "       'Height', 'Weight', 'LS', 'ST', 'RS', 'LW', 'LF', 'CF', 'RF', 'RW',\n",
    "       'LAM', 'CAM', 'RAM', 'LM', 'LCM', 'CM', 'RCM', 'RM', 'LWB', 'LDM',\n",
    "       'CDM', 'RDM', 'RWB', 'LB', 'LCB', 'CB', 'RCB', 'RB', 'Release Clause', 'Overall'],axis=1,inplace=True)\n",
    "players.head()"
   ]
  },
  {
   "cell_type": "code",
   "execution_count": 25,
   "metadata": {},
   "outputs": [
    {
     "data": {
      "text/plain": [
       "18147"
      ]
     },
     "execution_count": 25,
     "metadata": {},
     "output_type": "execute_result"
    }
   ],
   "source": [
    "players.dropna(inplace=True)\n",
    "len(players)"
   ]
  },
  {
   "cell_type": "code",
   "execution_count": 26,
   "metadata": {},
   "outputs": [],
   "source": [
    "feature_names=['Crossing', 'Finishing', 'HeadingAccuracy', 'ShortPassing',\n",
    "       'Volleys', 'Dribbling', 'Curve', 'FKAccuracy', 'LongPassing',\n",
    "       'BallControl', 'Acceleration', 'SprintSpeed', 'Agility', 'Reactions',\n",
    "       'Balance', 'ShotPower', 'Jumping', 'Stamina', 'Strength', 'LongShots',\n",
    "       'Aggression', 'Interceptions', 'Positioning', 'Vision', 'Penalties',\n",
    "       'Composure', 'Marking', 'StandingTackle', 'SlidingTackle', 'GKDiving',\n",
    "       'GKHandling', 'GKKicking', 'GKPositioning', 'GKReflexes']\n",
    "\n",
    "X=players[feature_names]\n",
    "y=players['Position']"
   ]
  },
  {
   "cell_type": "code",
   "execution_count": 27,
   "metadata": {},
   "outputs": [],
   "source": [
    "from sklearn.model_selection import train_test_split\n",
    "\n",
    "X_train, X_test, y_train, y_test = train_test_split(X,y,random_state=1)"
   ]
  },
  {
   "cell_type": "code",
   "execution_count": 28,
   "metadata": {},
   "outputs": [
    {
     "name": "stdout",
     "output_type": "stream",
     "text": [
      "Accuracy of Decision Tree classifier on training set:1.00\n",
      "Accuracy of Decision Tree classifier on test set:0.40\n"
     ]
    }
   ],
   "source": [
    "from sklearn.tree import DecisionTreeClassifier\n",
    "\n",
    "clf=DecisionTreeClassifier().fit(X_train,y_train) #Creating the Decision Tree Model\n",
    "\n",
    "print('Accuracy of Decision Tree classifier on training set:{:.2f}'.format(clf.score(X_train,y_train)))\n",
    "\n",
    "print('Accuracy of Decision Tree classifier on test set:{:.2f}'.format(clf.score(X_test,y_test)))"
   ]
  },
  {
   "cell_type": "code",
   "execution_count": 29,
   "metadata": {},
   "outputs": [
    {
     "data": {
      "text/plain": [
       "array(['CAM'], dtype=object)"
      ]
     },
     "execution_count": 29,
     "metadata": {},
     "output_type": "execute_result"
    }
   ],
   "source": [
    "Akash=[[50,45,70,65,30,45,50,68,72,65,35,55,45,55,50,80,65,70,75,65,35,45,55,65,50,50,70,50,50,0,0,0,0,0]];\n",
    "genPos=clf.predict(Akash)\n",
    "genPos"
   ]
  },
  {
   "cell_type": "code",
   "execution_count": 30,
   "metadata": {},
   "outputs": [
    {
     "data": {
      "text/plain": [
       "array([[1., 0., 0., 0., 0., 0., 0., 0., 0., 0., 0., 0., 0., 0., 0., 0.,\n",
       "        0., 0., 0., 0., 0., 0., 0., 0., 0., 0., 0.]])"
      ]
     },
     "execution_count": 30,
     "metadata": {},
     "output_type": "execute_result"
    }
   ],
   "source": [
    "genPos=clf.predict_proba(Akash)\n",
    "genPos"
   ]
  },
  {
   "cell_type": "code",
   "execution_count": 31,
   "metadata": {},
   "outputs": [
    {
     "data": {
      "text/plain": [
       "array([0.08, 0.1 , 0.13, 0.01, 0.21, 0.  , 0.  , 0.01, 0.02, 0.06, 0.04,\n",
       "       0.  , 0.03, 0.02, 0.04, 0.  , 0.  , 0.06, 0.05, 0.03, 0.02, 0.  ,\n",
       "       0.02, 0.  , 0.01, 0.  , 0.06])"
      ]
     },
     "execution_count": 31,
     "metadata": {},
     "output_type": "execute_result"
    }
   ],
   "source": [
    "from sklearn.ensemble import RandomForestClassifier\n",
    "clf = RandomForestClassifier(n_estimators=100, max_depth=None,\n",
    "    min_samples_split=2, random_state=0)\n",
    "classifier = clf.fit(X_train,y_train)\n",
    "classifier.predict_proba(Akash)[0]"
   ]
  },
  {
   "cell_type": "code",
   "execution_count": 32,
   "metadata": {},
   "outputs": [
    {
     "name": "stdout",
     "output_type": "stream",
     "text": [
      "Accuracy of Decision Tree classifier on training set:1.00\n",
      "Accuracy of Decision Tree classifier on test set:0.51\n"
     ]
    }
   ],
   "source": [
    "print('Accuracy of Decision Tree classifier on training set:{:.2f}'.format(classifier.score(X_train,y_train)))\n",
    "\n",
    "print('Accuracy of Decision Tree classifier on test set:{:.2f}'.format(classifier.score(X_test,y_test)))"
   ]
  },
  {
   "cell_type": "code",
   "execution_count": 33,
   "metadata": {},
   "outputs": [
    {
     "data": {
      "text/plain": [
       "array(['CAM', 'CB', 'CDM', 'CF', 'CM', 'GK', 'LAM', 'LB', 'LCB', 'LCM',\n",
       "       'LDM', 'LF', 'LM', 'LS', 'LW', 'LWB', 'RAM', 'RB', 'RCB', 'RCM',\n",
       "       'RDM', 'RF', 'RM', 'RS', 'RW', 'RWB', 'ST'], dtype=object)"
      ]
     },
     "execution_count": 33,
     "metadata": {},
     "output_type": "execute_result"
    }
   ],
   "source": [
    "classifier.classes_"
   ]
  },
  {
   "cell_type": "code",
   "execution_count": 34,
   "metadata": {},
   "outputs": [
    {
     "data": {
      "text/plain": [
       "{'CAM': 0.08,\n",
       " 'CB': 0.1,\n",
       " 'CDM': 0.13,\n",
       " 'CF': 0.01,\n",
       " 'CM': 0.21,\n",
       " 'GK': 0.0,\n",
       " 'LAM': 0.0,\n",
       " 'LB': 0.01,\n",
       " 'LCB': 0.02,\n",
       " 'LCM': 0.06,\n",
       " 'LDM': 0.04,\n",
       " 'LF': 0.0,\n",
       " 'LM': 0.03,\n",
       " 'LS': 0.02,\n",
       " 'LW': 0.04,\n",
       " 'LWB': 0.0,\n",
       " 'RAM': 0.0,\n",
       " 'RB': 0.06,\n",
       " 'RCB': 0.05,\n",
       " 'RCM': 0.03,\n",
       " 'RDM': 0.02,\n",
       " 'RF': 0.0,\n",
       " 'RM': 0.02,\n",
       " 'RS': 0.0,\n",
       " 'RW': 0.01,\n",
       " 'RWB': 0.0,\n",
       " 'ST': 0.06}"
      ]
     },
     "execution_count": 34,
     "metadata": {},
     "output_type": "execute_result"
    }
   ],
   "source": [
    "x=dict(zip(classifier.classes_,classifier.predict_proba(Akash)[0]))\n",
    "x"
   ]
  },
  {
   "cell_type": "code",
   "execution_count": 35,
   "metadata": {},
   "outputs": [
    {
     "data": {
      "text/plain": [
       "array(['CF', 'ST', 'AW', 'GK', 'CM', 'CB', 'CDM', 'CAM', 'WM', 'WB'],\n",
       "      dtype=object)"
      ]
     },
     "execution_count": 35,
     "metadata": {},
     "output_type": "execute_result"
    }
   ],
   "source": [
    "for index,row in players.iterrows():\n",
    "    if (row['Position'] == 'RCM') | \\\n",
    "    (row['Position'] == 'LCM') :\n",
    "        players.at[index,'Position'] = 'CM'\n",
    "        \n",
    "    elif (row['Position'] == 'LDM') | \\\n",
    "    (row['Position'] == 'RDM') :\n",
    "        players.at[index,'Position'] = 'CDM'\n",
    "        \n",
    "    elif (row['Position'] == 'LAM') | \\\n",
    "    (row['Position'] == 'RAM') :\n",
    "        players.at[index,'Position'] = 'CAM'\n",
    "        \n",
    "    elif (row['Position'] == 'LM') | \\\n",
    "    (row['Position'] == 'RM') :\n",
    "        players.at[index,'Position'] = 'WM'\n",
    "    \n",
    "    elif (row['Position'] == 'LS') | \\\n",
    "    (row['Position'] == 'RS') :\n",
    "        players.at[index,'Position'] = 'ST'\n",
    "\n",
    "    elif (row['Position'] == 'LF') | \\\n",
    "    (row['Position'] == 'RF') :\n",
    "        players.at[index,'Position'] = 'CF'\n",
    "        \n",
    "    elif (row['Position'] == 'RCB') | \\\n",
    "    (row['Position'] == 'LCB') :\n",
    "        players.at[index,'Position'] = 'CB'\n",
    "    \n",
    "    elif (row['Position'] == 'LB') | \\\n",
    "    (row['Position'] == 'RB') | \\\n",
    "    (row['Position'] == 'RWB') | \\\n",
    "    (row['Position'] == 'LWB') :\n",
    "        players.at[index,'Position'] = 'WB'\n",
    "    \n",
    "    elif (row['Position'] == 'LW') | \\\n",
    "    (row['Position'] == 'RW') :\n",
    "        players.at[index,'Position'] = 'AW'\n",
    "            \n",
    "\n",
    "players['Position'].unique()"
   ]
  },
  {
   "cell_type": "code",
   "execution_count": 36,
   "metadata": {},
   "outputs": [
    {
     "data": {
      "text/plain": [
       "{'AW': 0.05,\n",
       " 'CAM': 0.09,\n",
       " 'CB': 0.15,\n",
       " 'CDM': 0.25,\n",
       " 'CF': 0.01,\n",
       " 'CM': 0.3,\n",
       " 'GK': 0.0,\n",
       " 'ST': 0.03,\n",
       " 'WB': 0.07,\n",
       " 'WM': 0.05}"
      ]
     },
     "execution_count": 36,
     "metadata": {},
     "output_type": "execute_result"
    }
   ],
   "source": [
    "feature_names=['Crossing', 'Finishing', 'HeadingAccuracy', 'ShortPassing',\n",
    "       'Volleys', 'Dribbling', 'Curve', 'FKAccuracy', 'LongPassing',\n",
    "       'BallControl', 'Acceleration', 'SprintSpeed', 'Agility', 'Reactions',\n",
    "       'Balance', 'ShotPower', 'Jumping', 'Stamina', 'Strength', 'LongShots',\n",
    "       'Aggression', 'Interceptions', 'Positioning', 'Vision', 'Penalties',\n",
    "       'Composure', 'Marking', 'StandingTackle', 'SlidingTackle', 'GKDiving',\n",
    "       'GKHandling', 'GKKicking', 'GKPositioning', 'GKReflexes']\n",
    "\n",
    "X=players[feature_names]\n",
    "y=players['Position']\n",
    "\n",
    "X_train, X_test, y_train, y_test = train_test_split(X,y,random_state=1)\n",
    "\n",
    "clf = RandomForestClassifier(n_estimators=100, max_depth=None, min_samples_split=2, random_state=0)\n",
    "classifier = clf.fit(X_train,y_train)\n",
    "\n",
    "x=dict(zip(classifier.classes_,classifier.predict_proba(Akash)[0]))\n",
    "x"
   ]
  },
  {
   "cell_type": "code",
   "execution_count": 37,
   "metadata": {},
   "outputs": [
    {
     "data": {
      "text/plain": [
       "{'AW': 0.11,\n",
       " 'CAM': 0.17,\n",
       " 'CB': 0.0,\n",
       " 'CDM': 0.06,\n",
       " 'CF': 0.06,\n",
       " 'CM': 0.31,\n",
       " 'GK': 0.0,\n",
       " 'ST': 0.06,\n",
       " 'WB': 0.06,\n",
       " 'WM': 0.17}"
      ]
     },
     "execution_count": 37,
     "metadata": {},
     "output_type": "execute_result"
    }
   ],
   "source": [
    "DeBruyne=[[93.0, 82.0, 55.0, 92.0, 82.0, 86.0, 85.0, 83.0, 91.0, 91.0,\n",
    "       78.0, 76.0, 79.0, 91.0, 77.0, 91.0, 63.0, 90.0, 75.0, 91.0, 76.0,\n",
    "       61.0, 87.0, 94.0, 79.0, 88.0, 68.0, 58.0, 51.0, 15.0, 13.0, 5.0,\n",
    "       10.0, 13.0]]\n",
    "\n",
    "x=dict(zip(classifier.classes_,classifier.predict_proba(DeBruyne)[0]))\n",
    "x"
   ]
  },
  {
   "cell_type": "code",
   "execution_count": 38,
   "metadata": {},
   "outputs": [
    {
     "name": "stdout",
     "output_type": "stream",
     "text": [
      "Accuracy of Decision Tree classifier on training set:1.00\n",
      "Accuracy of Decision Tree classifier on test set:0.74\n"
     ]
    }
   ],
   "source": [
    "print('Accuracy of Random Forest classifier on training set:{:.2f}'.format(classifier.score(X_train,y_train)))\n",
    "\n",
    "print('Accuracy of Random Forest classifier on test set:{:.2f}'.format(classifier.score(X_test,y_test)))"
   ]
  },
  {
   "cell_type": "code",
   "execution_count": 39,
   "metadata": {},
   "outputs": [
    {
     "data": {
      "text/plain": [
       "{'AW': 0.31,\n",
       " 'CAM': 0.15,\n",
       " 'CB': 0.0,\n",
       " 'CDM': 0.0,\n",
       " 'CF': 0.11,\n",
       " 'CM': 0.02,\n",
       " 'GK': 0.0,\n",
       " 'ST': 0.25,\n",
       " 'WB': 0.0,\n",
       " 'WM': 0.16}"
      ]
     },
     "execution_count": 39,
     "metadata": {},
     "output_type": "execute_result"
    }
   ],
   "source": [
    "Messi=[[84.0, 95.0, 70.0, 90.0, 86.0, 97.0, 93.0, 94.0, 87.0, 96.0,\n",
    "       91.0, 86.0, 91.0, 95.0, 95.0, 85.0, 68.0, 72.0, 59.0, 94.0, 48.0,\n",
    "       22.0, 94.0, 94.0, 75.0, 96.0, 33.0, 28.0, 26.0, 6.0, 11.0, 15.0,\n",
    "       14.0, 8.0]]\n",
    "\n",
    "x=dict(zip(classifier.classes_,classifier.predict_proba(Messi)[0]))\n",
    "x"
   ]
  },
  {
   "cell_type": "code",
   "execution_count": 40,
   "metadata": {},
   "outputs": [
    {
     "data": {
      "text/plain": [
       "{'AW': 0.0,\n",
       " 'CAM': 0.13,\n",
       " 'CB': 0.01,\n",
       " 'CDM': 0.15,\n",
       " 'CF': 0.02,\n",
       " 'CM': 0.4,\n",
       " 'GK': 0.0,\n",
       " 'ST': 0.01,\n",
       " 'WB': 0.15,\n",
       " 'WM': 0.13}"
      ]
     },
     "execution_count": 40,
     "metadata": {},
     "output_type": "execute_result"
    }
   ],
   "source": [
    "Tenzin=[[80,70,50,85,65,60,60,70,70,75,70,70,75,70,65,75,65,60,60,65,70,75,70,70,85,70,70,60,60,0,0,0,0,0]]\n",
    "\n",
    "x=dict(zip(classifier.classes_,classifier.predict_proba(Tenzin)[0]))\n",
    "x"
   ]
  },
  {
   "cell_type": "code",
   "execution_count": 41,
   "metadata": {},
   "outputs": [
    {
     "data": {
      "text/plain": [
       "{'AW': 0.0,\n",
       " 'CAM': 0.1,\n",
       " 'CB': 0.02,\n",
       " 'CDM': 0.08,\n",
       " 'CF': 0.0,\n",
       " 'CM': 0.14,\n",
       " 'GK': 0.53,\n",
       " 'ST': 0.0,\n",
       " 'WB': 0.05,\n",
       " 'WM': 0.08}"
      ]
     },
     "execution_count": 41,
     "metadata": {},
     "output_type": "execute_result"
    }
   ],
   "source": [
    "Michael=[[80,65,80,85,75,60,70,70,70,75,70,70,75,70,65,75,65,60,60,65,70,75,70,70,85,70,70,60,60,50,50,50,50,60]]\n",
    "\n",
    "x=dict(zip(classifier.classes_,classifier.predict_proba(Michael)[0]))\n",
    "x"
   ]
  },
  {
   "cell_type": "code",
   "execution_count": null,
   "metadata": {},
   "outputs": [],
   "source": []
  }
 ],
 "metadata": {
  "kernelspec": {
   "display_name": "Python 3",
   "language": "python",
   "name": "python3"
  },
  "language_info": {
   "codemirror_mode": {
    "name": "ipython",
    "version": 3
   },
   "file_extension": ".py",
   "mimetype": "text/x-python",
   "name": "python",
   "nbconvert_exporter": "python",
   "pygments_lexer": "ipython3",
   "version": "3.7.3"
  }
 },
 "nbformat": 4,
 "nbformat_minor": 2
}
